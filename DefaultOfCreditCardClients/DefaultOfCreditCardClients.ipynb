{
 "cells": [
  {
   "cell_type": "markdown",
   "metadata": {},
   "source": [
    "# I Overview"
   ]
  },
  {
   "cell_type": "markdown",
   "metadata": {},
   "source": [
    "## Dataset attribute information"
   ]
  },
  {
   "cell_type": "markdown",
   "metadata": {},
   "source": [
    "There are 23 variables"
   ]
  },
  {
   "cell_type": "markdown",
   "metadata": {},
   "source": [
    "1. **ID** = ID of each client.\n",
    "2. **LIMIT_BAL** = Amount of the given credit (NT dollar): it includes both the individual consumer credit and his/her family (supplementary) credit. \n",
    "3. **SEX** = Gender (1 = male; 2 = female). \n",
    "4. **EDUCATION** = Education (1 = graduate school; 2 = university; 3 = high school; 4 = others). \n",
    "5. **MARRIAGE** = Marital status (1 = married; 2 = single; 3 = others). \n",
    "6. **AGE** = Age (year). \n",
    "\n",
    "(for the below 6 attributes\n",
    "-1=pay duly, 1=payment delay for one month, 2=payment delay for two months, ... 8=payment delay for eight months, 9=payment delay for nine months and above)\n",
    "7. **PAY_0** = The repayment status in September, 2005.\n",
    "8. **PAY_2** = The repayment status in August, 2005.\n",
    "9. **PAY_3** = The repayment status in July, 2005.\n",
    "10. **PAY_4** = The repayment status in June, 2005.\n",
    "11. **PAY_5** = The repayment status in May, 2005.\n",
    "12. **PAY_6** = The repayment status in April, 2005. \n",
    "\n",
    "(for the below 6 attributes in NT dollar)\n",
    "13. **BILL_AMT1** = Amount of bill statement in September, 2005.\n",
    "14. **BILL_AMT2** = Amount of bill statement in August, 2005.\n",
    "15. **BILL_AMT3** = Amount of bill statement in July, 2005.\n",
    "16. **BILL_AMT4** = Amount of bill statement in June, 2005.\n",
    "17. **BILL_AMT5** = Amount of bill statement in May, 2005.\n",
    "18. **BILL_AMT6** = Amount of bill statement in April, 2005. \n",
    "\n",
    "(for the below 6 attributes in NT dollar)\n",
    "19. **PAY_AMT1** = Amount paid in September, 2005.\n",
    "20. **PAY_AMT2** = Amount paid in August, 2005.\n",
    "21. **PAY_AMT3** = Amount paid in July, 2005.\n",
    "22. **PAY_AMT4** = Amount paid in June, 2005.\n",
    "23. **PAY_AMT5** = Amount paid in May, 2005.\n",
    "24. **PAY_AMT6** = Amount paid in April, 2005. \n",
    "25. **default.payment.next.month** = Default payment (1=yes, 0=no)"
   ]
  },
  {
   "cell_type": "code",
   "execution_count": 1,
   "metadata": {
    "scrolled": true
   },
   "outputs": [
    {
     "name": "stderr",
     "output_type": "stream",
     "text": [
      "D:\\Anaconda\\lib\\site-packages\\h5py\\__init__.py:36: FutureWarning: Conversion of the second argument of issubdtype from `float` to `np.floating` is deprecated. In future, it will be treated as `np.float64 == np.dtype(float).type`.\n",
      "  from ._conv import register_converters as _register_converters\n",
      "D:\\Anaconda\\lib\\site-packages\\sklearn\\cross_validation.py:41: DeprecationWarning: This module was deprecated in version 0.18 in favor of the model_selection module into which all the refactored classes and functions are moved. Also note that the interface of the new CV iterators are different from that of this module. This module will be removed in 0.20.\n",
      "  \"This module will be removed in 0.20.\", DeprecationWarning)\n"
     ]
    }
   ],
   "source": [
    "#Importing Dependencies\n",
    "import numpy as np\n",
    "import pandas as pd\n",
    "import tensorflow as tf\n",
    "import matplotlib.pyplot as plt\n",
    "from sklearn import metrics\n",
    "from imblearn.over_sampling import SMOTE \n",
    "from sklearn.cross_validation import cross_val_score\n",
    "from tqdm import tqdm_notebook as tqdm\n"
   ]
  },
  {
   "cell_type": "code",
   "execution_count": 2,
   "metadata": {},
   "outputs": [],
   "source": [
    "#importing the dataset\n",
    "dataset =pd.read_excel('default of credit card clients.xls',header=1,index_col=0)\n",
    "X = dataset.iloc[:,0:23].values\n",
    "y = dataset.iloc[:,23].values"
   ]
  },
  {
   "cell_type": "code",
   "execution_count": 3,
   "metadata": {},
   "outputs": [
    {
     "data": {
      "text/plain": [
       "0    23364\n",
       "1     6636\n",
       "Name: default payment next month, dtype: int64"
      ]
     },
     "execution_count": 3,
     "metadata": {},
     "output_type": "execute_result"
    }
   ],
   "source": [
    "dataset['default payment next month'].value_counts()"
   ]
  },
  {
   "cell_type": "code",
   "execution_count": 4,
   "metadata": {},
   "outputs": [],
   "source": [
    "#Splitting the dataset into Training set and Test set\n",
    "from sklearn.model_selection import train_test_split\n",
    "X_train,X_test,y_train,y_test = train_test_split(X,y,test_size =0.25,random_state=0)"
   ]
  },
  {
   "cell_type": "code",
   "execution_count": 5,
   "metadata": {},
   "outputs": [
    {
     "name": "stderr",
     "output_type": "stream",
     "text": [
      "D:\\Anaconda\\lib\\site-packages\\sklearn\\utils\\deprecation.py:77: DeprecationWarning: Function _ratio_float is deprecated; Use a float for 'ratio' is deprecated from version 0.2. The support will be removed in 0.4. Use a dict, str, or a callable instead.\n",
      "  warnings.warn(msg, category=DeprecationWarning)\n"
     ]
    }
   ],
   "source": [
    "sm = SMOTE(random_state=0,ratio = 1.0)\n",
    "X_train_res, y_train_res = sm.fit_sample(X_train, y_train)\n"
   ]
  },
  {
   "cell_type": "code",
   "execution_count": 7,
   "metadata": {
    "scrolled": true
   },
   "outputs": [
    {
     "data": {
      "text/plain": [
       "LogisticRegression(C=1.0, class_weight=None, dual=False, fit_intercept=True,\n",
       "          intercept_scaling=1, max_iter=100, multi_class='ovr', n_jobs=1,\n",
       "          penalty='l2', random_state=0, solver='liblinear', tol=0.0001,\n",
       "          verbose=0, warm_start=False)"
      ]
     },
     "execution_count": 7,
     "metadata": {},
     "output_type": "execute_result"
    }
   ],
   "source": [
    "#Fititng Logistic Regression to the Training Set\n",
    "from sklearn.linear_model import LogisticRegression\n",
    "classifier = LogisticRegression(random_state=0)\n",
    "classifier.fit(X_train_res, y_train_res)"
   ]
  },
  {
   "cell_type": "code",
   "execution_count": 8,
   "metadata": {},
   "outputs": [
    {
     "data": {
      "text/plain": [
       "0.6339111111111111"
      ]
     },
     "execution_count": 8,
     "metadata": {},
     "output_type": "execute_result"
    }
   ],
   "source": [
    "classifier.score(X_train, y_train)"
   ]
  },
  {
   "cell_type": "code",
   "execution_count": 9,
   "metadata": {
    "scrolled": false
   },
   "outputs": [
    {
     "data": {
      "text/plain": [
       "0.2224"
      ]
     },
     "execution_count": 9,
     "metadata": {},
     "output_type": "execute_result"
    }
   ],
   "source": [
    "y_train.mean()"
   ]
  },
  {
   "cell_type": "code",
   "execution_count": 10,
   "metadata": {},
   "outputs": [],
   "source": [
    "# predict class labels for the test set\n",
    "predicted = classifier.predict(X_test)\n"
   ]
  },
  {
   "cell_type": "code",
   "execution_count": 11,
   "metadata": {},
   "outputs": [],
   "source": [
    "# generate class probabilities\n",
    "probs = classifier.predict_proba(X_test)\n"
   ]
  },
  {
   "cell_type": "code",
   "execution_count": 12,
   "metadata": {
    "scrolled": true
   },
   "outputs": [
    {
     "name": "stdout",
     "output_type": "stream",
     "text": [
      "0.6286666666666667\n",
      "0.7043218265066763\n"
     ]
    }
   ],
   "source": [
    "# generate evaluation metrics\n",
    "print(metrics.accuracy_score(y_test, predicted))\n",
    "print(metrics.roc_auc_score(y_test, probs[:, 1]))"
   ]
  },
  {
   "cell_type": "code",
   "execution_count": 13,
   "metadata": {
    "scrolled": true
   },
   "outputs": [
    {
     "name": "stdout",
     "output_type": "stream",
     "text": [
      "[[3679 2189]\n",
      " [ 596 1036]]\n",
      "             precision    recall  f1-score   support\n",
      "\n",
      "          0       0.86      0.63      0.73      5868\n",
      "          1       0.32      0.63      0.43      1632\n",
      "\n",
      "avg / total       0.74      0.63      0.66      7500\n",
      "\n"
     ]
    }
   ],
   "source": [
    "#confusion matrix and a classification report with other metrics.\n",
    "print(metrics.confusion_matrix(y_test, predicted))\n",
    "print(metrics.classification_report(y_test, predicted))"
   ]
  },
  {
   "cell_type": "code",
   "execution_count": 14,
   "metadata": {},
   "outputs": [
    {
     "data": {
      "image/png": "[encoded data removed]",
      "text/plain": [
       "<matplotlib.figure.Figure at 0x1a7e1c9a358>"
      ]
     },
     "metadata": {},
     "output_type": "display_data"
    }
   ],
   "source": [
    "from sklearn.metrics import roc_auc_score,recall_score\n",
    "from sklearn.metrics import roc_curve\n",
    "logit_roc_auc = roc_auc_score(y_test, classifier.predict(X_test))\n",
    "fpr, tpr, thresholds = roc_curve(y_test, classifier.predict_proba(X_test)[:,1])\n",
    "plt.figure()\n",
    "plt.plot(fpr, tpr, label='Logistic Regression (area = %0.2f)' % logit_roc_auc)\n",
    "plt.plot([0, 1], [0, 1],'r--')\n",
    "plt.xlim([0.0, 1.0])\n",
    "plt.ylim([0.0, 1.05])\n",
    "plt.xlabel('False Positive Rate')\n",
    "plt.ylabel('True Positive Rate')\n",
    "plt.title('Receiver operating characteristic')\n",
    "plt.legend(loc=\"lower right\")\n",
    "plt.savefig('Log_ROC')\n",
    "plt.show()"
   ]
  },
  {
   "cell_type": "code",
   "execution_count": 15,
   "metadata": {},
   "outputs": [
    {
     "name": "stdout",
     "output_type": "stream",
     "text": [
      "\n",
      "Test Results\n",
      "0.6286666666666667\n",
      "0.6348039215686274\n"
     ]
    }
   ],
   "source": [
    "print( '\\nTest Results')\n",
    "print ( classifier.score(X_test, y_test))\n",
    "print (recall_score(y_test, classifier.predict(X_test)))"
   ]
  },
  {
   "cell_type": "markdown",
   "metadata": {},
   "source": [
    "# Precitions using entire data set\n",
    "### predict class labels for the entire set\n",
    "predicted_X = classifier.predict(X)\n",
    "### generate class probabilities\n",
    "probs_X = classifier.predict_proba(X)\n",
    "### generate evaluation metrics\n",
    "print(metrics.accuracy_score(y, predicted_X))\n",
    "print(metrics.roc_auc_score(y, probs_X[:, 1]))\n",
    "### confusion matrix and a classification report with other metrics.\n",
    "print(metrics.confusion_matrix(y, predicted_X))\n",
    "print(metrics.classification_report(y, predicted_X))"
   ]
  },
  {
   "cell_type": "markdown",
   "metadata": {},
   "source": [
    "# TENSORFLOW LOGREG"
   ]
  },
  {
   "cell_type": "code",
   "execution_count": 50,
   "metadata": {},
   "outputs": [],
   "source": [
    "# Setting parameters\n",
    "num_features = X_train.shape[1]\n",
    "learning_rate = 0.05\n",
    "training_epochs = 200"
   ]
  },
  {
   "cell_type": "code",
   "execution_count": 42,
   "metadata": {},
   "outputs": [],
   "source": [
    "tf.reset_default_graph()\n",
    "\n",
    "# By aving 2 features: hours slept & hours studied\n",
    "X = tf.placeholder(tf.float32, [None, num_features], name=\"X\")\n",
    "Y = tf.placeholder(tf.float32, [None, 1], name=\"Y\")\n",
    "\n",
    "# Initialize our weigts & bias\n",
    "W = tf.get_variable(\"W\", [num_features, 1], initializer = tf.contrib.layers.xavier_initializer())\n",
    "b = tf.get_variable(\"b\", [1], initializer = tf.zeros_initializer())\n",
    "\n",
    "Z = tf.add(tf.matmul(X, W), b)\n",
    "predictiontf = tf.nn.sigmoid(Z)\n",
    "\n",
    "# Calculate the cost\n",
    "cost = tf.reduce_mean(tf.nn.sigmoid_cross_entropy_with_logits(logits = Z, labels = Y))\n",
    "\n",
    "# Use Adam as optimization method\n",
    "optimizer = tf.train.AdamOptimizer(learning_rate).minimize(cost)\n",
    "\n"
   ]
  },
  {
   "cell_type": "code",
   "execution_count": 56,
   "metadata": {},
   "outputs": [],
   "source": [
    "loss = np.empty(shape=[1],dtype=float)\n",
    "training_acc =[]\n",
    "test_acc = []"
   ]
  },
  {
   "cell_type": "code",
   "execution_count": 44,
   "metadata": {},
   "outputs": [],
   "source": [
    "y_train_res = y_train_res.reshape(34992,1)"
   ]
  },
  {
   "cell_type": "code",
   "execution_count": 45,
   "metadata": {},
   "outputs": [],
   "source": [
    "y_train = y_train.reshape(22500,1)"
   ]
  },
  {
   "cell_type": "code",
   "execution_count": 46,
   "metadata": {},
   "outputs": [],
   "source": [
    "y_test = y_test.reshape(7500,1)"
   ]
  },
  {
   "cell_type": "code",
   "execution_count": 57,
   "metadata": {
    "scrolled": true
   },
   "outputs": [
    {
     "name": "stdout",
     "output_type": "stream",
     "text": [
      "Epoch: 0001\n",
      "Epoch: 0002\n",
      "Epoch: 0003\n",
      "Epoch: 0004\n",
      "Epoch: 0005\n",
      "Epoch: 0006\n",
      "Epoch: 0007\n",
      "Epoch: 0008\n",
      "Epoch: 0009\n",
      "Epoch: 0010\n",
      "Epoch: 0011\n",
      "Epoch: 0012\n",
      "Epoch: 0013\n",
      "Epoch: 0014\n",
      "Epoch: 0015\n",
      "Epoch: 0016\n",
      "Epoch: 0017\n",
      "Epoch: 0018\n",
      "Epoch: 0019\n",
      "Epoch: 0020\n",
      "Epoch: 0021\n",
      "Epoch: 0022\n",
      "Epoch: 0023\n",
      "Epoch: 0024\n",
      "Epoch: 0025\n",
      "Epoch: 0026\n",
      "Epoch: 0027\n",
      "Epoch: 0028\n",
      "Epoch: 0029\n",
      "Epoch: 0030\n",
      "Epoch: 0031\n",
      "Epoch: 0032\n",
      "Epoch: 0033\n",
      "Epoch: 0034\n",
      "Epoch: 0035\n",
      "Epoch: 0036\n",
      "Epoch: 0037\n",
      "Epoch: 0038\n",
      "Epoch: 0039\n",
      "Epoch: 0040\n",
      "Epoch: 0041\n",
      "Epoch: 0042\n",
      "Epoch: 0043\n",
      "Epoch: 0044\n",
      "Epoch: 0045\n",
      "Epoch: 0046\n",
      "Epoch: 0047\n",
      "Epoch: 0048\n",
      "Epoch: 0049\n",
      "Epoch: 0050\n",
      "Epoch: 0051\n",
      "Epoch: 0052\n",
      "Epoch: 0053\n",
      "Epoch: 0054\n",
      "Epoch: 0055\n",
      "Epoch: 0056\n",
      "Epoch: 0057\n",
      "Epoch: 0058\n",
      "Epoch: 0059\n",
      "Epoch: 0060\n",
      "Epoch: 0061\n",
      "Epoch: 0062\n",
      "Epoch: 0063\n",
      "Epoch: 0064\n",
      "Epoch: 0065\n",
      "Epoch: 0066\n",
      "Epoch: 0067\n",
      "Epoch: 0068\n",
      "Epoch: 0069\n",
      "Epoch: 0070\n",
      "Epoch: 0071\n",
      "Epoch: 0072\n",
      "Epoch: 0073\n",
      "Epoch: 0074\n",
      "Epoch: 0075\n",
      "Epoch: 0076\n",
      "Epoch: 0077\n",
      "Epoch: 0078\n",
      "Epoch: 0079\n",
      "Epoch: 0080\n",
      "Epoch: 0081\n",
      "Epoch: 0082\n",
      "Epoch: 0083\n",
      "Epoch: 0084\n",
      "Epoch: 0085\n",
      "Epoch: 0086\n",
      "Epoch: 0087\n",
      "Epoch: 0088\n",
      "Epoch: 0089\n",
      "Epoch: 0090\n",
      "Epoch: 0091\n",
      "Epoch: 0092\n",
      "Epoch: 0093\n",
      "Epoch: 0094\n",
      "Epoch: 0095\n",
      "Epoch: 0096\n",
      "Epoch: 0097\n",
      "Epoch: 0098\n",
      "Epoch: 0099\n",
      "Epoch: 0100\n",
      "Epoch: 0101\n",
      "Epoch: 0102\n",
      "Epoch: 0103\n",
      "Epoch: 0104\n",
      "Epoch: 0105\n",
      "Epoch: 0106\n",
      "Epoch: 0107\n",
      "Epoch: 0108\n",
      "Epoch: 0109\n",
      "Epoch: 0110\n",
      "Epoch: 0111\n",
      "Epoch: 0112\n",
      "Epoch: 0113\n",
      "Epoch: 0114\n",
      "Epoch: 0115\n",
      "Epoch: 0116\n",
      "Epoch: 0117\n",
      "Epoch: 0118\n",
      "Epoch: 0119\n",
      "Epoch: 0120\n",
      "Epoch: 0121\n",
      "Epoch: 0122\n",
      "Epoch: 0123\n",
      "Epoch: 0124\n",
      "Epoch: 0125\n",
      "Epoch: 0126\n",
      "Epoch: 0127\n",
      "Epoch: 0128\n",
      "Epoch: 0129\n",
      "Epoch: 0130\n",
      "Epoch: 0131\n",
      "Epoch: 0132\n",
      "Epoch: 0133\n",
      "Epoch: 0134\n",
      "Epoch: 0135\n",
      "Epoch: 0136\n",
      "Epoch: 0137\n",
      "Epoch: 0138\n",
      "Epoch: 0139\n",
      "Epoch: 0140\n",
      "Epoch: 0141\n",
      "Epoch: 0142\n",
      "Epoch: 0143\n",
      "Epoch: 0144\n",
      "Epoch: 0145\n",
      "Epoch: 0146\n",
      "Epoch: 0147\n",
      "Epoch: 0148\n",
      "Epoch: 0149\n",
      "Epoch: 0150\n",
      "Epoch: 0151\n",
      "Epoch: 0152\n",
      "Epoch: 0153\n",
      "Epoch: 0154\n",
      "Epoch: 0155\n",
      "Epoch: 0156\n",
      "Epoch: 0157\n",
      "Epoch: 0158\n",
      "Epoch: 0159\n",
      "Epoch: 0160\n",
      "Epoch: 0161\n",
      "Epoch: 0162\n",
      "Epoch: 0163\n",
      "Epoch: 0164\n",
      "Epoch: 0165\n",
      "Epoch: 0166\n",
      "Epoch: 0167\n",
      "Epoch: 0168\n",
      "Epoch: 0169\n",
      "Epoch: 0170\n",
      "Epoch: 0171\n",
      "Epoch: 0172\n",
      "Epoch: 0173\n",
      "Epoch: 0174\n",
      "Epoch: 0175\n",
      "Epoch: 0176\n",
      "Epoch: 0177\n",
      "Epoch: 0178\n",
      "Epoch: 0179\n",
      "Epoch: 0180\n",
      "Epoch: 0181\n",
      "Epoch: 0182\n",
      "Epoch: 0183\n",
      "Epoch: 0184\n",
      "Epoch: 0185\n",
      "Epoch: 0186\n",
      "Epoch: 0187\n",
      "Epoch: 0188\n",
      "Epoch: 0189\n",
      "Epoch: 0190\n",
      "Epoch: 0191\n",
      "Epoch: 0192\n",
      "Epoch: 0193\n",
      "Epoch: 0194\n",
      "Epoch: 0195\n",
      "Epoch: 0196\n",
      "Epoch: 0197\n",
      "Epoch: 0198\n",
      "Epoch: 0199\n",
      "Epoch: 0200\n",
      "Train Accuracy: 0.4427111\n",
      "Test Accuracy: 0.43066666\n"
     ]
    }
   ],
   "source": [
    "init = tf.global_variables_initializer()\n",
    "seed = 5\n",
    "np.random.seed(seed)\n",
    "tf.set_random_seed(seed)\n",
    "\n",
    "\n",
    "with tf.Session() as sess:\n",
    "    sess.run(init)\n",
    "    # Calculate the correct predictions\n",
    "    correct_prediction = tf.to_float(tf.greater(predictiontf, 0.5))\n",
    "    #print(type(sess.run(correct_prediction)))    \n",
    "    # Calculate accuracy on the test set\n",
    "    accuracy = tf.reduce_mean(tf.to_float(tf.equal(Y, correct_prediction)))\n",
    "    \n",
    "    for epoch in range(training_epochs):\n",
    "        print(\"Epoch:\", '%04d' % (epoch+1))\n",
    "        _, c = sess.run([optimizer, cost], feed_dict={X: X_train_res, Y: y_train_res})\n",
    "        \n",
    "        temp_train_acc = sess.run(accuracy, feed_dict={X: X_train, Y: y_train})\n",
    "        temp_test_acc = sess.run(accuracy, feed_dict={X: X_test, Y: y_test})\n",
    "        \n",
    "        #cost.append(c)\n",
    "        loss = np.append(loss, c)\n",
    "        training_acc.append(temp_train_acc)\n",
    "        test_acc.append(temp_test_acc)\n",
    "        \n",
    "    \n",
    "    \n",
    "    #training_acc = \n",
    "    #print(tf.confusion_matrix(Y,correct_prediction))\n",
    "    #sess.run(accuracy,feed_dict={data:X_train,})    \n",
    "    print (\"Train Accuracy:\", accuracy.eval({X: X_train, Y: y_train}))\n",
    "    print (\"Test Accuracy:\", accuracy.eval({X: X_test, Y: y_test}))"
   ]
  },
  {
   "cell_type": "code",
   "execution_count": 59,
   "metadata": {},
   "outputs": [
    {
     "data": {
      "image/png": "[encoded data removed]",
      "text/plain": [
       "<matplotlib.figure.Figure at 0x1a7e105b518>"
      ]
     },
     "metadata": {},
     "output_type": "display_data"
    }
   ],
   "source": [
    "plt.plot(loss)\n",
    "plt.title('Cross Entropy Loss')\n",
    "plt.xlabel('epoch')\n",
    "plt.ylabel('loss')\n",
    "plt.show()"
   ]
  },
  {
   "cell_type": "code",
   "execution_count": 25,
   "metadata": {},
   "outputs": [
    {
     "data": {
      "image/png": "[encoded data removed]",
      "text/plain": [
       "<matplotlib.figure.Figure at 0x1a7e1c9a208>"
      ]
     },
     "metadata": {},
     "output_type": "display_data"
    }
   ],
   "source": [
    "logit_roc_auc = roc_auc_score(y_test, classifier.predict(X_test))\n",
    "fpr, tpr, thresholds = roc_curve(y_test, classifier.predict_proba(X_test)[:,1])\n",
    "plt.figure()\n",
    "plt.plot(fpr, tpr, label='Logistic Regression (area = %0.2f)' % logit_roc_auc)\n",
    "plt.plot([0, 1], [0, 1],'r--')\n",
    "plt.xlim([0.0, 1.0])\n",
    "plt.ylim([0.0, 1.05])\n",
    "plt.xlabel('False Positive Rate')\n",
    "plt.ylabel('True Positive Rate')\n",
    "plt.title('Receiver operating characteristic')\n",
    "plt.legend(loc=\"lower right\")\n",
    "plt.savefig('Log_ROC')\n",
    "plt.show()"
   ]
  }
 ],
 "metadata": {
  "kernelspec": {
   "display_name": "Python 3",
   "language": "python",
   "name": "python3"
  },
  "language_info": {
   "codemirror_mode": {
    "name": "ipython",
    "version": 3
   },
   "file_extension": ".py",
   "mimetype": "text/x-python",
   "name": "python",
   "nbconvert_exporter": "python",
   "pygments_lexer": "ipython3",
   "version": "3.6.4"
  }
 },
 "nbformat": 4,
 "nbformat_minor": 2
}
